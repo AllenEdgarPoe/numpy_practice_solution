{
 "cells": [
  {
   "cell_type": "markdown",
   "metadata": {},
   "source": [
    "# Random Sampling"
   ]
  },
  {
   "cell_type": "code",
   "execution_count": 2,
   "metadata": {},
   "outputs": [],
   "source": [
    "import numpy as np"
   ]
  },
  {
   "cell_type": "code",
   "execution_count": 2,
   "metadata": {},
   "outputs": [
    {
     "data": {
      "text/plain": [
       "'1.14.3'"
      ]
     },
     "execution_count": 2,
     "metadata": {},
     "output_type": "execute_result"
    }
   ],
   "source": [
    "np.__version__"
   ]
  },
  {
   "cell_type": "markdown",
   "metadata": {},
   "source": [
    "## Simple random data"
   ]
  },
  {
   "cell_type": "markdown",
   "metadata": {},
   "source": [
    "Q1. Create an array of shape (3, 2) and populate it with random samples from a uniform distribution over [0, 1])."
   ]
  },
  {
   "cell_type": "code",
   "execution_count": 22,
   "metadata": {},
   "outputs": [
    {
     "data": {
      "text/plain": [
       "array([[0. , 0.2],\n",
       "       [0.4, 0.6],\n",
       "       [0.8, 1. ]])"
      ]
     },
     "execution_count": 22,
     "metadata": {},
     "output_type": "execute_result"
    }
   ],
   "source": [
    "np.linspace(0,1, num = 6).reshape(3,2) #균일한 간격으로 설정 "
   ]
  },
  {
   "cell_type": "markdown",
   "metadata": {},
   "source": [
    "A1. random.random()함수는 0부터 1사이 임의의 수를 반환시켜준다. size를 지정하고 싶을 때는 튜플 형태로 넣어주면 됨"
   ]
  },
  {
   "cell_type": "code",
   "execution_count": 5,
   "metadata": {},
   "outputs": [
    {
     "data": {
      "text/plain": [
       "array([[0.48508949, 0.9100822 ],\n",
       "       [0.62577744, 0.33584983],\n",
       "       [0.64341143, 0.79825122]])"
      ]
     },
     "execution_count": 5,
     "metadata": {},
     "output_type": "execute_result"
    }
   ],
   "source": [
    "np.random.random((3,2)) "
   ]
  },
  {
   "cell_type": "code",
   "execution_count": 9,
   "metadata": {},
   "outputs": [
    {
     "data": {
      "text/plain": [
       "array([[0.82101158, 0.37954862],\n",
       "       [0.10925363, 0.53146012],\n",
       "       [0.4662906 , 0.84908887]])"
      ]
     },
     "execution_count": 9,
     "metadata": {},
     "output_type": "execute_result"
    }
   ],
   "source": [
    "np.array([np.random.random() for _ in range(6)]).reshape(3,2)"
   ]
  },
  {
   "cell_type": "code",
   "execution_count": 24,
   "metadata": {},
   "outputs": [
    {
     "data": {
      "text/plain": [
       "array([1, 3, 5, 7, 9])"
      ]
     },
     "execution_count": 24,
     "metadata": {},
     "output_type": "execute_result"
    }
   ],
   "source": [
    "np.arange(1, 10, step = 2) #step 설정하기"
   ]
  },
  {
   "cell_type": "markdown",
   "metadata": {},
   "source": [
    "Q2. Create an array of shape (1000, 1000) and populate it with random samples from a standard normal distribution. And verify that the mean and standard deviation is close enough to 0 and 1 repectively."
   ]
  },
  {
   "cell_type": "code",
   "execution_count": 35,
   "metadata": {},
   "outputs": [
    {
     "name": "stdout",
     "output_type": "stream",
     "text": [
      "mean: 0.00220326839077971\n",
      "standard deviation: 1.0000678721932008\n"
     ]
    }
   ],
   "source": [
    "p = np.random.standard_normal(size = (1000,1000))\n",
    "print('mean: {}'.format(p.mean()))\n",
    "print('standard deviation: {}'.format(p.std()))"
   ]
  },
  {
   "cell_type": "markdown",
   "metadata": {},
   "source": [
    "A2. 반환 값이 normal distribution이 띄게 하려면 random모듈의 normal 함수를 사용하면 된다. (평균, 표준편차)를 인자로 넣어주면 된다."
   ]
  },
  {
   "cell_type": "code",
   "execution_count": 16,
   "metadata": {},
   "outputs": [
    {
     "name": "stdout",
     "output_type": "stream",
     "text": [
      "-0.0013582214001913713\n",
      "1.0010778493758274\n"
     ]
    }
   ],
   "source": [
    "s = np.random.normal(0,1,(1000,1000))\n",
    "print(s.mean())\n",
    "print(s.std())"
   ]
  },
  {
   "cell_type": "markdown",
   "metadata": {},
   "source": [
    "Q3. Create an array of shape (3, 2) and populate it with random integers ranging from 0 to 3 (inclusive) from a discrete uniform distribution."
   ]
  },
  {
   "cell_type": "markdown",
   "metadata": {},
   "source": [
    "A3. 만약 정수형태로 반환하고자 한다면 randint함수를 쓴다. 첫 번째 인자는 가장 낮은 값, 두 번째는 가장 높은 값, size를 지정할 수도 있다."
   ]
  },
  {
   "cell_type": "code",
   "execution_count": 42,
   "metadata": {},
   "outputs": [
    {
     "name": "stdout",
     "output_type": "stream",
     "text": [
      "0.8333333333333334\n",
      "0.6871842709362768\n",
      "[2 3]\n"
     ]
    }
   ],
   "source": [
    "s = np.random.randint(0,3, (3,2))\n",
    "print(s.mean())\n",
    "print(s.std())\n",
    "print(s.sum(axis = 0)) #열의 합을 나타낸 것. axis = 0이면 열, axis = 1이면 행 "
   ]
  },
  {
   "cell_type": "markdown",
   "metadata": {},
   "source": [
    "random.rand()함수는 받은 인자만큼 0과 1사이 난수를 생성한다. "
   ]
  },
  {
   "cell_type": "code",
   "execution_count": 54,
   "metadata": {},
   "outputs": [
    {
     "data": {
      "text/plain": [
       "array([[0.43758721, 0.891773  , 0.96366276],\n",
       "       [0.38344152, 0.79172504, 0.52889492]])"
      ]
     },
     "execution_count": 54,
     "metadata": {},
     "output_type": "execute_result"
    }
   ],
   "source": [
    "np.random.rand(6).reshape(2,3)"
   ]
  },
  {
   "cell_type": "markdown",
   "metadata": {},
   "source": [
    "random.seed()함수는 난수를 fix하는 역할을 한다. "
   ]
  },
  {
   "cell_type": "code",
   "execution_count": 55,
   "metadata": {},
   "outputs": [
    {
     "data": {
      "text/plain": [
       "array([0.5488135 , 0.71518937, 0.60276338, 0.54488318, 0.4236548 ,\n",
       "       0.64589411])"
      ]
     },
     "execution_count": 55,
     "metadata": {},
     "output_type": "execute_result"
    }
   ],
   "source": [
    "np.random.seed(0)\n",
    "np.random.rand(6)"
   ]
  },
  {
   "cell_type": "markdown",
   "metadata": {},
   "source": [
    "Q4. Extract 1 elements from x randomly such that each of them would be associated with probabilities .3, .5, .2. Then print the result 10 times."
   ]
  },
  {
   "cell_type": "markdown",
   "metadata": {},
   "source": [
    "A4. np.random.choice(a,size,replace,p)에서 a가 정수면 range(a)와 똑같이 취급되고 size는 배열 크기 의미, replace는 데이터를 중복할 것인지 T/F로 묻는 것이고 p는 array안에 각 인수가 나올 수 있는 확률을 의미 "
   ]
  },
  {
   "cell_type": "code",
   "execution_count": 86,
   "metadata": {},
   "outputs": [
    {
     "name": "stdout",
     "output_type": "stream",
     "text": [
      "[[b'3 out of 10']\n",
      " [b'2 out of 10']]\n",
      "[[b'3 out of 10']\n",
      " [b'5 out of 10']]\n",
      "[[b'3 out of 10']\n",
      " [b'2 out of 10']]\n",
      "[[b'2 out of 10']\n",
      " [b'5 out of 10']]\n",
      "[[b'5 out of 10']\n",
      " [b'3 out of 10']]\n",
      "[[b'5 out of 10']\n",
      " [b'2 out of 10']]\n",
      "[[b'2 out of 10']\n",
      " [b'5 out of 10']]\n",
      "[[b'3 out of 10']\n",
      " [b'5 out of 10']]\n",
      "[[b'5 out of 10']\n",
      " [b'3 out of 10']]\n",
      "[[b'5 out of 10']\n",
      " [b'3 out of 10']]\n"
     ]
    }
   ],
   "source": [
    "x = [b'3 out of 10', b'5 out of 10', b'2 out of 10']\n",
    "for _ in range(10):    \n",
    "    print(np.random.choice(x,size = (2,1),replace = False, p= [0.3,0.5,0.2]))\n",
    "\n",
    "#replace = True를 사용할 경우 a의 배열 크기가 size보다 크거나 같은지 확인하자"
   ]
  },
  {
   "cell_type": "markdown",
   "metadata": {},
   "source": [
    "Q5. Extract 3 different integers from 0 to 9 randomly with the same probabilities."
   ]
  },
  {
   "cell_type": "markdown",
   "metadata": {},
   "source": [
    "A5. random.choice()함수에서 p를 따로 설정하지 않으면 default값이 그냥 다 균일한 확률로 나온다."
   ]
  },
  {
   "cell_type": "code",
   "execution_count": 89,
   "metadata": {},
   "outputs": [
    {
     "data": {
      "text/plain": [
       "array([1, 1, 0])"
      ]
     },
     "execution_count": 89,
     "metadata": {},
     "output_type": "execute_result"
    }
   ],
   "source": [
    "np.random.choice(10,3)"
   ]
  },
  {
   "cell_type": "markdown",
   "metadata": {},
   "source": [
    "## Permutations"
   ]
  },
  {
   "cell_type": "markdown",
   "metadata": {},
   "source": [
    "Q6. Shuffle numbers between 0 and 9 (inclusive)."
   ]
  },
  {
   "cell_type": "code",
   "execution_count": 93,
   "metadata": {},
   "outputs": [
    {
     "data": {
      "text/plain": [
       "array([0, 1, 4, 6, 7, 3, 2, 8, 9, 5])"
      ]
     },
     "execution_count": 93,
     "metadata": {},
     "output_type": "execute_result"
    }
   ],
   "source": [
    "np.random.permutation(10)"
   ]
  },
  {
   "cell_type": "markdown",
   "metadata": {},
   "source": [
    "A6. np.random.shuffle()함수는 그 배열 안에 수를 랜덤으로 shuffle함"
   ]
  },
  {
   "cell_type": "code",
   "execution_count": 101,
   "metadata": {},
   "outputs": [
    {
     "name": "stdout",
     "output_type": "stream",
     "text": [
      "[6 4 3 0 1 2 5 9 7 8]\n"
     ]
    }
   ],
   "source": [
    "# Or\n",
    "a = np.arange(10)\n",
    "np.random.shuffle(a)\n",
    "print(a)"
   ]
  },
  {
   "cell_type": "markdown",
   "metadata": {},
   "source": [
    "## Random generator"
   ]
  },
  {
   "cell_type": "markdown",
   "metadata": {},
   "source": [
    "Q7. Assign number 10 to the seed of the random generator so that you can get the same value next time."
   ]
  },
  {
   "cell_type": "code",
   "execution_count": 102,
   "metadata": {},
   "outputs": [
    {
     "data": {
      "text/plain": [
       "array([0.77132064, 0.02075195, 0.63364823, 0.74880388, 0.49850701,\n",
       "       0.22479665, 0.19806286, 0.76053071, 0.16911084, 0.08833981])"
      ]
     },
     "execution_count": 102,
     "metadata": {},
     "output_type": "execute_result"
    }
   ],
   "source": [
    "np.random.seed(10)\n",
    "np.random.random(10)"
   ]
  },
  {
   "cell_type": "code",
   "execution_count": 104,
   "metadata": {},
   "outputs": [
    {
     "data": {
      "text/plain": [
       "array([0.77132064, 0.02075195, 0.63364823, 0.74880388, 0.49850701,\n",
       "       0.22479665, 0.19806286, 0.76053071, 0.16911084, 0.08833981])"
      ]
     },
     "execution_count": 104,
     "metadata": {},
     "output_type": "execute_result"
    }
   ],
   "source": [
    "np.random.seed(10)\n",
    "np.random.random(10)"
   ]
  },
  {
   "cell_type": "markdown",
   "metadata": {},
   "source": [
    "A7. np.random.seed()를 이용하면 랜덤한 수를 다시 불러올 수 있다. "
   ]
  }
 ],
 "metadata": {
  "kernelspec": {
   "display_name": "Python 3",
   "language": "python",
   "name": "python3"
  },
  "language_info": {
   "codemirror_mode": {
    "name": "ipython",
    "version": 3
   },
   "file_extension": ".py",
   "mimetype": "text/x-python",
   "name": "python",
   "nbconvert_exporter": "python",
   "pygments_lexer": "ipython3",
   "version": "3.6.5"
  }
 },
 "nbformat": 4,
 "nbformat_minor": 1
}
