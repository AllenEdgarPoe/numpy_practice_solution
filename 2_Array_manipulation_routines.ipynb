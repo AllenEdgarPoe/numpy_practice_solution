{
 "cells": [
  {
   "cell_type": "markdown",
   "metadata": {},
   "source": [
    "# Array manipulation routines"
   ]
  },
  {
   "cell_type": "code",
   "execution_count": 1,
   "metadata": {},
   "outputs": [],
   "source": [
    "import numpy as np"
   ]
  },
  {
   "cell_type": "code",
   "execution_count": 2,
   "metadata": {},
   "outputs": [
    {
     "data": {
      "text/plain": [
       "'1.14.3'"
      ]
     },
     "execution_count": 2,
     "metadata": {},
     "output_type": "execute_result"
    }
   ],
   "source": [
    "np.__version__"
   ]
  },
  {
   "cell_type": "markdown",
   "metadata": {
    "collapsed": true
   },
   "source": [
    "Q1. Let x be a ndarray [10, 10, 3] with all elements set to one. Reshape x so that the size of the second dimension equals 150."
   ]
  },
  {
   "cell_type": "code",
   "execution_count": 38,
   "metadata": {},
   "outputs": [],
   "source": [
    "x = np.ones((10,10,3))\n",
    "out = np.reshape(x,[-1,300])\n",
    "assert np.allclose(out, np.ones((10,10,3)).reshape(300,-1))"
   ]
  },
  {
   "cell_type": "markdown",
   "metadata": {},
   "source": [
    "np.allclose()함수는 두 개의 인자의 element를 compare해서 한 element라도 다른게 있으면 False를 출력한다. 이 때, 각 행렬의 요소를 비교하기 위해서는 broadcast가 가능한 두 행렬만을 비교할 수 있는데, 크기가 다르면 에러 메세지가 출력된다. \n",
    "\n",
    "**assert** 는 파이썬 뿐만 아니라 다른 computational language에서도 자주 쓰이는 용법으로, 디버깅할 때 용이하다. 에러 메세지를 출력하도록 함."
   ]
  },
  {
   "cell_type": "markdown",
   "metadata": {},
   "source": [
    "Q2. Let x be array [[1, 2, 3], [4, 5, 6]]. Convert it to [1 4 2 5 3 6]."
   ]
  },
  {
   "cell_type": "code",
   "execution_count": 42,
   "metadata": {},
   "outputs": [
    {
     "data": {
      "text/plain": [
       "array([1, 2, 3, 4, 5, 6])"
      ]
     },
     "execution_count": 42,
     "metadata": {},
     "output_type": "execute_result"
    }
   ],
   "source": [
    "x = np.arange(1,7).reshape(2,-1)\n",
    "x.ravel() #or x.flatten()"
   ]
  },
  {
   "cell_type": "markdown",
   "metadata": {},
   "source": [
    "Q3. Let x be array [[1, 2, 3], [4, 5, 6]]. Get the 5th element."
   ]
  },
  {
   "cell_type": "code",
   "execution_count": 45,
   "metadata": {},
   "outputs": [
    {
     "data": {
      "text/plain": [
       "5"
      ]
     },
     "execution_count": 45,
     "metadata": {},
     "output_type": "execute_result"
    }
   ],
   "source": [
    "x = np.arange(1,7).reshape(2,-1)\n",
    "x.flatten()[4]"
   ]
  },
  {
   "cell_type": "markdown",
   "metadata": {},
   "source": [
    "Q4. Let x be an arbitrary 3-D array of shape (3, 4, 5). Permute the dimensions of x such that the new shape will be (4,3,5).\n"
   ]
  },
  {
   "cell_type": "markdown",
   "metadata": {},
   "source": [
    "전치(Transpose)를 할때는 보통 x.T를 쓰지만 np.swapaxes()함수도 용이하다. 이 함수는 2개의 axis를 서로 바꾸는 역할을 한다. 인자에 리스트를 넣어 몇 번째 axis와 몇 번째 axis를 바꿀 것인지 지정 가능하다. "
   ]
  },
  {
   "cell_type": "code",
   "execution_count": 92,
   "metadata": {},
   "outputs": [
    {
     "name": "stdout",
     "output_type": "stream",
     "text": [
      "True\n"
     ]
    },
    {
     "data": {
      "text/plain": [
       "False"
      ]
     },
     "execution_count": 92,
     "metadata": {},
     "output_type": "execute_result"
    }
   ],
   "source": [
    "x = np.empty((3,4,5))\n",
    "result1 = x.transpose([1,0,2])\n",
    "result2 = np.swapaxes(x,1,0)\n",
    "print(result1.shape == result2.shape)\n",
    "np.allclose(result1, result2)  #왜 결과값이 False가 될까? np.allclose가 relative difference + absolute difference를 계산하기 때문이라고 함. "
   ]
  },
  {
   "cell_type": "markdown",
   "metadata": {},
   "source": [
    "Q5. Let x be an arbitrary 2-D array of shape (3, 4). Permute the dimensions of x such that the new shape will be (4,3)."
   ]
  },
  {
   "cell_type": "code",
   "execution_count": 102,
   "metadata": {},
   "outputs": [
    {
     "data": {
      "text/plain": [
       "array([[ True,  True,  True],\n",
       "       [ True,  True,  True],\n",
       "       [ True,  True,  True],\n",
       "       [ True,  True,  True]])"
      ]
     },
     "execution_count": 102,
     "metadata": {},
     "output_type": "execute_result"
    }
   ],
   "source": [
    "x = np.empty((3,4))\n",
    "x.T == x.swapaxes(0,1)"
   ]
  },
  {
   "cell_type": "markdown",
   "metadata": {},
   "source": [
    "Q5. Let x be an arbitrary 2-D array of shape (3, 4). Insert a nex axis such that the new shape will be (3, 1, 4)."
   ]
  },
  {
   "cell_type": "markdown",
   "metadata": {},
   "source": [
    "**np.expand_dims(a,axis)**에서 a는 input array이고 axis는 새로운 axis를 넣고 싶은 부분을 의미한다. \n",
    "\n",
    "비슷한 함수로는 **np.newaxis**가 있다. np.newaxis의 경우 인덱싱으로 활용하여 추가하고 싶은 열에 insert하면 된다. "
   ]
  },
  {
   "cell_type": "code",
   "execution_count": 12,
   "metadata": {},
   "outputs": [
    {
     "data": {
      "text/plain": [
       "True"
      ]
     },
     "execution_count": 12,
     "metadata": {},
     "output_type": "execute_result"
    }
   ],
   "source": [
    "x = np.empty((3,4))\n",
    "out1 = np.expand_dims(x,1)\n",
    "out2 = x[:,np.newaxis,:]\n",
    "assert out1.shape == out2.shape\n",
    "np.allclose(out1,out2)"
   ]
  },
  {
   "cell_type": "markdown",
   "metadata": {},
   "source": [
    "Q6. Let x be an arbitrary 3-D array of shape (3, 4, 1). Remove a single-dimensional entries such that the new shape will be (3, 4)."
   ]
  },
  {
   "cell_type": "markdown",
   "metadata": {},
   "source": [
    "np.squeeze(a, axis)에서 a는 array를, axis는 삭제하고자 하는 축의 인덱스를 삽입하면 된다. "
   ]
  },
  {
   "cell_type": "code",
   "execution_count": 20,
   "metadata": {},
   "outputs": [
    {
     "data": {
      "text/plain": [
       "array([[0., 0., 0., 0.],\n",
       "       [0., 0., 0., 0.],\n",
       "       [0., 0., 0., 0.]])"
      ]
     },
     "execution_count": 20,
     "metadata": {},
     "output_type": "execute_result"
    }
   ],
   "source": [
    "x = np.empty((3,4,1))\n",
    "np.squeeze(x,2)"
   ]
  },
  {
   "cell_type": "markdown",
   "metadata": {},
   "source": [
    "Q7. Lex x be an array <br/>\n",
    "[[ 1 2 3]<br/>\n",
    "[ 4 5 6].<br/><br/>\n",
    "and y be an array <br/>\n",
    "[[ 7 8 9]<br/>\n",
    "[10 11 12]].<br/>\n",
    "Concatenate x and y so that a new array looks like <br/>[[1, 2, 3, 7, 8, 9], <br/>[4, 5, 6, 10, 11, 12]].\n"
   ]
  },
  {
   "cell_type": "markdown",
   "metadata": {},
   "source": [
    "**np.hstack**은 옆으로 concatenate 해줌. 비슷한 함수로는 *np.column_stack* 와 *c_[]*\n",
    "\n",
    "**np.vstack**은 열의 방향으로 위아래로 concatenate해줌. 비슷한 함수는 *np.row_stack* 와 *r_[]*\n",
    "\n",
    "**np.dstack** 2D array의 depth로 concatenate하는 역할. 3D로 해주는 역할\n",
    "\n",
    "**np.concatenate(a,axis = n)** 은 위 수식을 통합적으로 실행할 수 있는 함수. axis = 0이면 vstack, axis=1이면 hstack, axis=2이면 dstack이다. "
   ]
  },
  {
   "cell_type": "code",
   "execution_count": 48,
   "metadata": {},
   "outputs": [
    {
     "name": "stdout",
     "output_type": "stream",
     "text": [
      "[[ 1  2  3  7  8  9]\n",
      " [ 4  5  6 10 11 12]]\n"
     ]
    }
   ],
   "source": [
    "x = np.arange(1,7).reshape(2,3)\n",
    "y = np.arange(7,13).reshape(2,3)\n",
    "a1 = np.hstack((x,y))\n",
    "a2 = np.column_stack((x,y))\n",
    "a3 = np.c_[x,y]\n",
    "a4 = np.concatenate((x,y),axis=1)\n",
    "\n",
    "assert np.allclose(a1,a2,a3,a4)\n",
    "print(a1)\n"
   ]
  },
  {
   "cell_type": "markdown",
   "metadata": {},
   "source": [
    "Q8. Let x be an array <br/>\n",
    "[[ 1 2 3]<br/>\n",
    "[ 4 5 6].<br/><br/>\n",
    "and y be an array <br/>\n",
    "[[ 7 8 9]<br/>\n",
    "[10 11 12]].<br/>\n",
    "Concatenate x and y so that a new array looks like <br/>[[ 1  2  3]<br/>\n",
    " [ 4  5  6]<br/>\n",
    " [ 7  8  9]<br/>\n",
    " [10 11 12]]\n"
   ]
  },
  {
   "cell_type": "code",
   "execution_count": 59,
   "metadata": {},
   "outputs": [
    {
     "name": "stdout",
     "output_type": "stream",
     "text": [
      "[[ 1  2  3]\n",
      " [ 4  5  6]\n",
      " [ 7  8  9]\n",
      " [10 11 12]]\n"
     ]
    }
   ],
   "source": [
    "x = np.arange(1,7).reshape(2,3)\n",
    "y = np.arange(7,13).reshape(2,3)\n",
    "a1 = np.vstack((x,y))\n",
    "a2 = np.row_stack((x,y))\n",
    "a3 = np.r_[x,y]\n",
    "a4 = np.concatenate((x,y), axis = 0)\n",
    "\n",
    "assert np.allclose(a1,a2,a3,a4)\n",
    "print(a4)"
   ]
  },
  {
   "cell_type": "markdown",
   "metadata": {},
   "source": [
    "Q8. Let x be an array [1 2 3] and y be [4 5 6]. Convert it to [[1, 4], [2, 5], [3, 6]]."
   ]
  },
  {
   "cell_type": "code",
   "execution_count": 74,
   "metadata": {},
   "outputs": [
    {
     "name": "stdout",
     "output_type": "stream",
     "text": [
      "[[[1 4]\n",
      "  [2 5]\n",
      "  [3 6]]]\n"
     ]
    }
   ],
   "source": [
    "x = np.array([1,2,3])\n",
    "y = np.array([4,5,6])\n",
    "\n",
    "a1 = np.dstack((x,y))\n",
    "print(a1)"
   ]
  },
  {
   "cell_type": "markdown",
   "metadata": {},
   "source": [
    "a2 = np.concatenate((x,y), axis=2) 하면 오류 나옴. 왜냐하면 x와 y의 shape을 알아야할 필요가 있는데 둘 다 (3)으로 1차원이다. 따라서 axis = 1 이나 axis =2 면 차원을 넘게 되면서 오류가 뜨는 것"
   ]
  },
  {
   "cell_type": "markdown",
   "metadata": {},
   "source": [
    "Q9. Let x be an array [[1],[2],[3]] and y be [[4], [5], [6]]. Convert x to [[[1, 4]], [[2, 5]], [[3, 6]]]."
   ]
  },
  {
   "cell_type": "code",
   "execution_count": 84,
   "metadata": {},
   "outputs": [
    {
     "name": "stdout",
     "output_type": "stream",
     "text": [
      "[[[1 4]]\n",
      "\n",
      " [[2 5]]\n",
      "\n",
      " [[3 6]]]\n"
     ]
    }
   ],
   "source": [
    "x = np.arange(1,4).reshape(3,1)\n",
    "y = np.arange(4,7).reshape(3,1)\n",
    "a1 = np.dstack((x,y))\n",
    "a2 = np.concatenate((x,y),axis=1)\n",
    "\n",
    "x = a1\n",
    "print(x)"
   ]
  },
  {
   "cell_type": "markdown",
   "metadata": {},
   "source": [
    "**np.split(a, section, axis)** 는 array를 나눠주는 역할. a는 array, section은 나눠지는 구간. 여기서 section이 중요한데 만약 정수일 경우 n개의 배열로 나눈다는 뜻이고 튜플이나 리스트 같은 array일 경우 인덱스 표시 만큼 나눠준다. \n",
    "\n",
    "예를 들어) np.split(x,(2,4),axis = 0)의 경우 column-wise로 x(0:2), x(2:4), x(4:)만큼 나눠준다는 뜻\n",
    "\n",
    "**np.split(axis = 0)** 은 **np.hsplit()** (column-wise)과 같고 **np.split(axis = 1)** 은 **np.vsplit()** (row-wise)과 같다 \n",
    "\n",
    "**np.dsplit()** 은 3차원 이상의 deep matrix를 구분하는 함수\n",
    "\n",
    "**np.array_split(x,a)** 는 x의 array를 정수 a개의 section으로 나눠주는 함수"
   ]
  },
  {
   "cell_type": "markdown",
   "metadata": {},
   "source": [
    "Q10. Let x be an array [1, 2, 3, ..., 9]. Split x into 3 arrays, each of which has 4, 2, and 3 elements in the original order."
   ]
  },
  {
   "cell_type": "code",
   "execution_count": 17,
   "metadata": {},
   "outputs": [
    {
     "name": "stdout",
     "output_type": "stream",
     "text": [
      "[array([1, 2, 3, 4]), array([5, 6]), array([7, 8, 9])]\n",
      "[array([1, 2, 3, 4]), array([5, 6]), array([7, 8, 9])]\n"
     ]
    }
   ],
   "source": [
    "x = np.arange(1,10)\n",
    "a1 = np.split(x,(4,6))\n",
    "a2 = np.split(x,(4,6), axis = 0) #x의 크기가 (3) 이기 때문에 axis = 0 만 가능\n",
    "print(a1)\n",
    "print(a2) "
   ]
  },
  {
   "cell_type": "code",
   "execution_count": 24,
   "metadata": {},
   "outputs": [
    {
     "data": {
      "text/plain": [
       "array([[ 0,  1,  2,  3],\n",
       "       [ 4,  5,  6,  7],\n",
       "       [ 8,  9, 10, 11],\n",
       "       [12, 13, 14, 15],\n",
       "       [16, 17, 18, 19],\n",
       "       [20, 21, 22, 23]])"
      ]
     },
     "execution_count": 24,
     "metadata": {},
     "output_type": "execute_result"
    }
   ],
   "source": [
    "a = np.arange(12).reshape(3,4)\n",
    "b = np.arange(12,24).reshape(3,4)\n",
    "np.concatenate((a,b),axis = 0)"
   ]
  },
  {
   "cell_type": "markdown",
   "metadata": {},
   "source": [
    "Q11. Let x be an array<br/>\n",
    "[[[  0.,   1.,   2.,   3.],<br/>\n",
    "  [  4.,   5.,   6.,   7.]],<br/>\n",
    " \n",
    " [[  8.,   9.,  10.,  11.],<br/>\n",
    "  [ 12.,  13.,  14.,  15.]]].<br/>\n",
    "Split it into two such that the first array looks like<br/>\n",
    "[[[  0.,   1.,   2.],<br/>\n",
    "  [  4.,   5.,   6.]],<br/>\n",
    " \n",
    " [[  8.,   9.,  10.],<br/>\n",
    "  [ 12.,  13.,  14.]]].<br/>\n",
    "  \n",
    "and the second one look like:<br/>\n",
    "  \n",
    "[[[  3.],<br/>\n",
    "  [  7.]],<br/>\n",
    " \n",
    " [[  11.],<br/>\n",
    "  [ 15.]]].<br/>  "
   ]
  },
  {
   "cell_type": "markdown",
   "metadata": {},
   "source": [
    "reshape(a,b,c)처럼 축이 2이상일때 주의하자. "
   ]
  },
  {
   "cell_type": "code",
   "execution_count": 31,
   "metadata": {},
   "outputs": [
    {
     "name": "stdout",
     "output_type": "stream",
     "text": [
      "[array([[[ 0,  1,  2],\n",
      "        [ 4,  5,  6]],\n",
      "\n",
      "       [[ 8,  9, 10],\n",
      "        [12, 13, 14]]]), array([[[ 3],\n",
      "        [ 7]],\n",
      "\n",
      "       [[11],\n",
      "        [15]]])]\n",
      "[array([[[ 0,  1,  2],\n",
      "        [ 4,  5,  6]],\n",
      "\n",
      "       [[ 8,  9, 10],\n",
      "        [12, 13, 14]]]), array([[[ 3],\n",
      "        [ 7]],\n",
      "\n",
      "       [[11],\n",
      "        [15]]])]\n"
     ]
    }
   ],
   "source": [
    "import numpy as np\n",
    "x = np.arange(16).reshape(2,2,4)\n",
    "a1 = np.split(x,(3,),axis=2)   #주의해야할 점. (3)은 정수로 3이기 때문에 튜플로 나타내려면 (3,)해야함\n",
    "a2 = np.dsplit(x,(3,))\n",
    "print(a1)\n",
    "print(a2)"
   ]
  },
  {
   "cell_type": "markdown",
   "metadata": {},
   "source": [
    "Q12. Let x be an array <br />\n",
    "[[  0.,   1.,   2.,   3.],<br>\n",
    " [  4.,   5.,   6.,   7.],<br>\n",
    " [  8.,   9.,  10.,  11.],<br>\n",
    " [ 12.,  13.,  14.,  15.]].<br>\n",
    "Split it into two arrays along the second axis."
   ]
  },
  {
   "cell_type": "code",
   "execution_count": 37,
   "metadata": {},
   "outputs": [
    {
     "name": "stdout",
     "output_type": "stream",
     "text": [
      "[array([[ 0,  1],\n",
      "       [ 4,  5],\n",
      "       [ 8,  9],\n",
      "       [12, 13]]), array([[ 2,  3],\n",
      "       [ 6,  7],\n",
      "       [10, 11],\n",
      "       [14, 15]])]\n",
      "[array([[ 0,  1],\n",
      "       [ 4,  5],\n",
      "       [ 8,  9],\n",
      "       [12, 13]]), array([[ 2,  3],\n",
      "       [ 6,  7],\n",
      "       [10, 11],\n",
      "       [14, 15]])]\n"
     ]
    }
   ],
   "source": [
    "x = np.arange(16).reshape(4,4)\n",
    "a1 = np.array_split(x,2,axis=1)\n",
    "a2 = np.hsplit(x,2)\n",
    "print(a1)\n",
    "print(a2)"
   ]
  },
  {
   "cell_type": "markdown",
   "metadata": {},
   "source": [
    "Q13. Let x be an array <br />\n",
    "[[  0.,   1.,   2.,   3.],<br>\n",
    " [  4.,   5.,   6.,   7.],<br>\n",
    " [  8.,   9.,  10.,  11.],<br>\n",
    " [ 12.,  13.,  14.,  15.]].<br>\n",
    "Split it into two arrays along the first axis."
   ]
  },
  {
   "cell_type": "code",
   "execution_count": 39,
   "metadata": {},
   "outputs": [
    {
     "name": "stdout",
     "output_type": "stream",
     "text": [
      "[array([[0, 1, 2, 3],\n",
      "       [4, 5, 6, 7]]), array([[ 8,  9, 10, 11],\n",
      "       [12, 13, 14, 15]])]\n",
      "[array([[0, 1, 2, 3],\n",
      "       [4, 5, 6, 7]]), array([[ 8,  9, 10, 11],\n",
      "       [12, 13, 14, 15]])]\n"
     ]
    }
   ],
   "source": [
    "x = np.arange(16).reshape(4,4)\n",
    "a1 = np.vsplit(x,2)\n",
    "a2 = np.array_split(x,2,axis = 0)\n",
    "print(a1)\n",
    "print(a2)"
   ]
  },
  {
   "cell_type": "markdown",
   "metadata": {},
   "source": [
    "**np.tile(a,n)** 은 array a를 정수 n만큼 concatenate하거나, 튜플 n만큼 expansion하는 것이다.\n",
    "\n",
    "**np.resize(a,n)** 은 array a를 copy를 만들어 size n으로 reshape하는 것이다. ***a.resize(n)*** 은 a의 copy를 만드는 것이 아닌 0을 반복하여 a를 변동시키므로 둘의 차이점을 알아두자"
   ]
  },
  {
   "cell_type": "markdown",
   "metadata": {},
   "source": [
    "Q14. Let x be an array [0, 1, 2]. Convert it to <br/>\n",
    "[[0, 1, 2, 0, 1, 2],<br/>\n",
    " [0, 1, 2, 0, 1, 2]]."
   ]
  },
  {
   "cell_type": "code",
   "execution_count": 47,
   "metadata": {},
   "outputs": [
    {
     "name": "stdout",
     "output_type": "stream",
     "text": [
      "[[0 1 2 0 1 2]\n",
      " [0 1 2 0 1 2]]\n",
      "[[0 1 2 0 1 2]\n",
      " [0 1 2 0 1 2]]\n",
      "[[0 1 2 0 0 0]\n",
      " [0 0 0 0 0 0]]\n"
     ]
    }
   ],
   "source": [
    "x = np.array([0,1,2])\n",
    "a1 = np.tile(x,(2,2))\n",
    "a2 = np.resize(x,(2,6))\n",
    "x.resize((2,6))\n",
    "print(a1)\n",
    "print(a2)\n",
    "print(x)"
   ]
  },
  {
   "cell_type": "markdown",
   "metadata": {},
   "source": [
    "Q15. Let x be an array [0, 1, 2]. Convert it to <br/>\n",
    "[0, 0, 1, 1, 2, 2]."
   ]
  },
  {
   "cell_type": "markdown",
   "metadata": {},
   "source": [
    "**np.repeat(a,n)** 은 array a에 대해 정수 n만큼 늘리는 것. axis의 default값은 flatten layer이고 axis = 0 or 1이면 축의 방향만큼 늘어난다. \n",
    "n이 정수가 아닌 array일 경우는 지정 axis의 shape를 맞추기 위해 broadcast된다. "
   ]
  },
  {
   "cell_type": "code",
   "execution_count": 50,
   "metadata": {},
   "outputs": [
    {
     "data": {
      "text/plain": [
       "array([0, 0, 1, 1, 2, 2])"
      ]
     },
     "execution_count": 50,
     "metadata": {},
     "output_type": "execute_result"
    }
   ],
   "source": [
    "x = np.array([0,1,2])\n",
    "np.repeat(x,2)"
   ]
  },
  {
   "cell_type": "markdown",
   "metadata": {},
   "source": [
    "Q16. Let x be an array [0, 0, 0, 1, 2, 3, 0, 2, 1, 0].<br/>\n",
    "remove the leading the trailing zeros."
   ]
  },
  {
   "cell_type": "code",
   "execution_count": 49,
   "metadata": {},
   "outputs": [
    {
     "data": {
      "text/plain": [
       "array([1, 2, 3, 0, 2, 1])"
      ]
     },
     "execution_count": 49,
     "metadata": {},
     "output_type": "execute_result"
    }
   ],
   "source": [
    "x = np.array([0,0,0,1,2,3,0,2,1,0])\n",
    "np.trim_zeros(x)"
   ]
  },
  {
   "cell_type": "markdown",
   "metadata": {},
   "source": [
    "Q17. Let x be an array [2, 2, 1, 5, 4, 5, 1, 2, 3]. Get two arrays of unique elements and their counts.\n"
   ]
  },
  {
   "cell_type": "markdown",
   "metadata": {},
   "source": [
    "**np.unique(a, return_index, return_inverse, return_counts)** "
   ]
  },
  {
   "cell_type": "code",
   "execution_count": 62,
   "metadata": {},
   "outputs": [
    {
     "name": "stdout",
     "output_type": "stream",
     "text": [
      "element: 1, count: 2\n",
      "element: 2, count: 3\n",
      "element: 3, count: 1\n",
      "element: 4, count: 1\n",
      "element: 5, count: 2\n"
     ]
    }
   ],
   "source": [
    "x = np.array([2, 2, 1, 5, 4, 5, 1, 2, 3])\n",
    "element, counts = np.unique(x, return_counts = True)\n",
    "for e,c in zip(element, counts):\n",
    "    print('element: {}, count: {}'.format(e,c))"
   ]
  },
  {
   "cell_type": "markdown",
   "metadata": {},
   "source": [
    "Q18. Let x be an array <br/>\n",
    "[[ 1 2]<br/>\n",
    " [ 3 4].<br/>\n",
    "Flip x along the second axis."
   ]
  },
  {
   "cell_type": "markdown",
   "metadata": {},
   "source": [
    "**np.fliplr()** 은 flip array into left/right direction\n",
    "**np.flipud()** 은 flip array into up/down direction"
   ]
  },
  {
   "cell_type": "code",
   "execution_count": 64,
   "metadata": {},
   "outputs": [
    {
     "data": {
      "text/plain": [
       "array([[2, 1],\n",
       "       [4, 3]])"
      ]
     },
     "execution_count": 64,
     "metadata": {},
     "output_type": "execute_result"
    }
   ],
   "source": [
    "x = np.arange(1,5).reshape(2,2)\n",
    "np.fliplr(x)"
   ]
  },
  {
   "cell_type": "markdown",
   "metadata": {},
   "source": [
    "Q19. Let x be an array <br/>\n",
    "[[ 1 2]<br/>\n",
    " [ 3 4].<br/>\n",
    "Flip x along the first axis."
   ]
  },
  {
   "cell_type": "code",
   "execution_count": 65,
   "metadata": {},
   "outputs": [
    {
     "data": {
      "text/plain": [
       "array([[3, 4],\n",
       "       [1, 2]])"
      ]
     },
     "execution_count": 65,
     "metadata": {},
     "output_type": "execute_result"
    }
   ],
   "source": [
    "x = np.arange(1,5).reshape(2,2)\n",
    "np.flipud(x)"
   ]
  },
  {
   "cell_type": "markdown",
   "metadata": {},
   "source": [
    "Q20. Let x be an array <br/>\n",
    "[[ 1 2]<br/>\n",
    " [ 3 4].<br/>\n",
    "Rotate x 90 degrees counter-clockwise."
   ]
  },
  {
   "cell_type": "markdown",
   "metadata": {},
   "source": [
    "**np.rot90(a)** 는 array를 시계반대방향으로 90도 만큼 회전"
   ]
  },
  {
   "cell_type": "code",
   "execution_count": 66,
   "metadata": {},
   "outputs": [
    {
     "data": {
      "text/plain": [
       "array([[2, 4],\n",
       "       [1, 3]])"
      ]
     },
     "execution_count": 66,
     "metadata": {},
     "output_type": "execute_result"
    }
   ],
   "source": [
    "x = np.arange(1,5).reshape(2,2)\n",
    "np.rot90(x)"
   ]
  },
  {
   "cell_type": "markdown",
   "metadata": {},
   "source": [
    "Q21 Let x be an array <br/>\n",
    "[[ 1 2 3 4]<br/>\n",
    " [ 5 6 7 8].<br/>\n",
    "Shift elements one step to right along the second axis."
   ]
  },
  {
   "cell_type": "markdown",
   "metadata": {},
   "source": [
    "**np.roll(a, shift, axis)** 에서 shift는 끝의 몇 개의 수 나 맨 앞으로 옮겨지는지, axis는 방향을 의미. axis의 default는 layer가 flattened되고 난 후다. "
   ]
  },
  {
   "cell_type": "code",
   "execution_count": 72,
   "metadata": {},
   "outputs": [
    {
     "name": "stdout",
     "output_type": "stream",
     "text": [
      "[[4 1 2 3]\n",
      " [8 5 6 7]]\n",
      "[[8 1 2 3]\n",
      " [4 5 6 7]]\n"
     ]
    }
   ],
   "source": [
    "x = np.arange(1,9).reshape(2,4)\n",
    "print(np.roll(x,1,axis=1))\n",
    "print(np.roll(x,1))"
   ]
  }
 ],
 "metadata": {
  "kernelspec": {
   "display_name": "Python 3",
   "language": "python",
   "name": "python3"
  },
  "language_info": {
   "codemirror_mode": {
    "name": "ipython",
    "version": 3
   },
   "file_extension": ".py",
   "mimetype": "text/x-python",
   "name": "python",
   "nbconvert_exporter": "python",
   "pygments_lexer": "ipython3",
   "version": "3.6.5"
  }
 },
 "nbformat": 4,
 "nbformat_minor": 1
}
